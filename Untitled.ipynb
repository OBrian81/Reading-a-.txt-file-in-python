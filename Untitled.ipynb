{
 "cells": [
  {
   "cell_type": "code",
   "execution_count": 4,
   "id": "f0461124",
   "metadata": {},
   "outputs": [
    {
     "name": "stdout",
     "output_type": "stream",
     "text": [
      "{'123456': [50.0, 55.0, 60.0], '234567': [20.5, 30.75, 35.75, 35.75, 20.5], '345678': [100.0, 90.0, 110.0], '456789': [75.25, 25.5, 20.5], '567890': [200.0, 300.0, 250.0, 250.0], '678901': [35.75, 40.25, 45.75], '789012': [10.0, 10.0, 15.0, 20.0], '890123': [45.6, 60.8, 70.6], '901234': [150.0, 200.0, 180.0], '012345': [80.2, 85.2]}\n"
     ]
    }
   ],
   "source": [
    "data_dict = {} #store the data grouped by reference number\n",
    "\n",
    "with open(\"data.txt\", \"r\") as file:\n",
    "    header_line = file.readline().strip().split(\",\")\n",
    "    reference_index = header_line.index(\"refNo\")\n",
    "    amount_index = header_line.index(\"amount\")\n",
    "\n",
    "    for line in file:\n",
    "        parts = line.strip().split(\",\")\n",
    "        if len(parts) >= max(reference_index, amount_index) + 1:\n",
    "            reference_number = parts[reference_index]\n",
    "            try:\n",
    "                value = float(parts[amount_index])\n",
    "                if reference_number in data_dict:\n",
    "                    data_dict[reference_number].append(value)\n",
    "                else:\n",
    "                    data_dict[reference_number] = [value]\n",
    "            except ValueError:\n",
    "                print(f\"Invalid value on line: {line}\")\n",
    "        else:\n",
    "            print(f\"Invalid line format: {line}\")\n",
    "\n",
    "print(data_dict)\n"
   ]
  },
  {
   "cell_type": "code",
   "execution_count": 5,
   "id": "23e83796",
   "metadata": {},
   "outputs": [
    {
     "name": "stdout",
     "output_type": "stream",
     "text": [
      "Reference Number: 123456\n",
      "Data: [50.0, 55.0, 60.0]\n",
      "Total: 165.0\n",
      "\n",
      "Reference Number: 234567\n",
      "Data: [20.5, 30.75, 35.75, 35.75, 20.5]\n",
      "Total: 143.25\n",
      "\n",
      "Reference Number: 345678\n",
      "Data: [100.0, 90.0, 110.0]\n",
      "Total: 300.0\n",
      "\n",
      "Reference Number: 456789\n",
      "Data: [75.25, 25.5, 20.5]\n",
      "Total: 121.25\n",
      "\n",
      "Reference Number: 567890\n",
      "Data: [200.0, 300.0, 250.0, 250.0]\n",
      "Total: 1000.0\n",
      "\n",
      "Reference Number: 678901\n",
      "Data: [35.75, 40.25, 45.75]\n",
      "Total: 121.75\n",
      "\n",
      "Reference Number: 789012\n",
      "Data: [10.0, 10.0, 15.0, 20.0]\n",
      "Total: 55.0\n",
      "\n",
      "Reference Number: 890123\n",
      "Data: [45.6, 60.8, 70.6]\n",
      "Total: 177.0\n",
      "\n",
      "Reference Number: 901234\n",
      "Data: [150.0, 200.0, 180.0]\n",
      "Total: 530.0\n",
      "\n",
      "Reference Number: 012345\n",
      "Data: [80.2, 85.2]\n",
      "Total: 165.4\n",
      "\n"
     ]
    }
   ],
   "source": [
    "for reference_number, values in data_dict.items():\n",
    "    total = sum(values)\n",
    "    print(f\"Reference Number: {reference_number}\")\n",
    "    print(f\"Data: {values}\")\n",
    "    print(f\"Total: {total}\")\n",
    "    print()"
   ]
  }
 ],
 "metadata": {
  "kernelspec": {
   "display_name": "Python 3 (ipykernel)",
   "language": "python",
   "name": "python3"
  },
  "language_info": {
   "codemirror_mode": {
    "name": "ipython",
    "version": 3
   },
   "file_extension": ".py",
   "mimetype": "text/x-python",
   "name": "python",
   "nbconvert_exporter": "python",
   "pygments_lexer": "ipython3",
   "version": "3.11.5"
  }
 },
 "nbformat": 4,
 "nbformat_minor": 5
}
